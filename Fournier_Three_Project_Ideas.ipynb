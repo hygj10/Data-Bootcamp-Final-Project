{
 "cells": [
  {
   "cell_type": "markdown",
   "metadata": {},
   "source": [
    "# **Three Project Ideas**\n",
    "\n",
    "### By Dillon Fournier | dmf449\n",
    "\n",
    "Below are three potential project ideas listed in the order of preference. My first choice is to examine China's corporate debt, and I have already started research and found plenty of data available. I hope to work on this topic with Kevin Wang and Hoyoung Jun. The other two presentation are certainly also quality options, but I firmly believe that the first topic is the best.\n"
   ]
  },
  {
   "cell_type": "markdown",
   "metadata": {},
   "source": [
    "### China’s Corporate Debt\n",
    "The Chinese economy in the past decade has been characterized by rapid expansion of non-financial sector corporate debt. This project would seek to examine this issue utilizing data visualization. This project would be comprised of three parts: illustrating the extent of China’s debt problem; contextualizing China’s corporate debt issue; demonstrating historical comparisons for such an issue. Each part would utilize a combination of Penn World Table data, Federal Reserve economic data (FRED), and the China Statistical Bureau’s data. \n",
    " \n",
    "Firstly, there would be an illustration of the extent of China’s debt issue and its relation to several recent important events in the Chinese economy, including the global financial crisis, the Chinese stock market crash of 2015-2016, and various financial and currency regime liberalizations and de-liberalizations.  \n",
    "\n",
    "Secondly, our goal would be to contextualize the rise of China’s corporate debt as a component of China’s larger macroeconomic imbalances. We will use FRED data on Chinese consumption and investment data as well as corporate and household shares of GDP to demonstrate that China’s growth over the past few decades has largely been buoyed by unsustainably high levels of investment over savings.\n",
    "\n",
    "Lastly, the final goal of this project would be to provide several historical comps for China’s current situation and illustrate the outcomes of each country. Countries that could be included are Japan, Thailand, Vietnam and a host of others. One potential illustration could be a discriminant analysis comparing investment/GDP and corporate debt growth rates of various countries along with a discriminant analysis to determine which of those countries experienced a debt crisis afterwards, and then plot China’s recent 5-year statistics to determine what the historical data would indicate is in China’s future. For this we also intend to use select datasets provided by the IMF regarding historical debt crises. \n"
   ]
  },
  {
   "cell_type": "markdown",
   "metadata": {},
   "source": [
    "### Is this the best the sport has ever been?\n",
    "\n",
    "One of the most popular discussions surrounding the Modern NBA is the quality of the game relative to history. For every person that claims that the NBA is flush with more talent than ever before, there is another that claims that nothing will rival [Insert Time period’s] “Golden Age”. For this project, I would use Basketball-Reference.com’s extensive player data to determine the quality of the league throughout time in 3 categories: athleticism, individual production and team production. On the first point, I’ll take the height and weight data of every player throughout time to create a yearly “aggregate player”, and see how that player has physically changed over time. This portion would ideally be aided by a graphic that could demonstrate the changing silhouette of the player over the course of the NBA’s history.\n",
    "\n",
    "For team quality, the project would examine statistics including net-rating, median wins, and playoff turnover, likely with graphics illustrating each. Lastly for individual production, I would use the dataset spanning back to the late 1970’s of a whole host of advanced statistics and determine Z-scores for each player throughout history. These Z-scores would then be used to determine at a given point in history, how exceptional the best 20-players were relative to the rest of history.\t\n"
   ]
  },
  {
   "cell_type": "markdown",
   "metadata": {},
   "source": [
    "### Germany’s Economy: By the Numbers\n",
    "\n",
    "Germany’s economy is now considered to be a model for developed economies all around the world. With high net exports, low unemployment, and little to no government spending deficits, the German economy has drawn praise from international organizations and other developed countries. But if there IS a downside to the German economic model, what is it? Data will be pulled from FRED, the [EU’s statistical bureau](http://ec.europa.eu/eurostat) , and the Penn World Tables that we’ve used in class.\n",
    "\n",
    "This project would start by examining Germany’s economic fundamentals from the German reunification until now, and compare it to the trend in EU member states during this time. We would also compare items like change in human capital, consumption and investment growth etc. to determine what is driving these economic fundamentals. Lastly, we’ll examine the proportion of the German federal budget spent on infrastructure and education to determine whether some of the most common complaints about German fiscal restraint—that it underprioritizes the two aforementioned expenditure categories—rings true. This can be done by comparing the evolution of German students’ international standardized test scores to see whether the federal budget’s changing education expenditures have meaningfully impacted the performance of German students. Likewise, we can compare German infrastructure spending to the yearly released national infrastructure ratings.\n"
   ]
  },
  {
   "cell_type": "code",
   "execution_count": null,
   "metadata": {
    "collapsed": true
   },
   "outputs": [],
   "source": []
  }
 ],
 "metadata": {
  "kernelspec": {
   "display_name": "Python 3",
   "language": "python",
   "name": "python3"
  },
  "language_info": {
   "codemirror_mode": {
    "name": "ipython",
    "version": 3
   },
   "file_extension": ".py",
   "mimetype": "text/x-python",
   "name": "python",
   "nbconvert_exporter": "python",
   "pygments_lexer": "ipython3",
   "version": "3.6.3"
  }
 },
 "nbformat": 4,
 "nbformat_minor": 2
}
